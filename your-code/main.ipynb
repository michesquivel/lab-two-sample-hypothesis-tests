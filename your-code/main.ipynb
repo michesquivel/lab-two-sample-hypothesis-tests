{
 "cells": [
  {
   "cell_type": "markdown",
   "metadata": {},
   "source": [
    "# Before your start:\n",
    "- Read the README.md file\n",
    "- Comment as much as you can and use the resources (README.md file)\n",
    "- Happy learning!"
   ]
  },
  {
   "cell_type": "code",
   "execution_count": 1,
   "metadata": {},
   "outputs": [],
   "source": [
    "# import numpy and pandas\n",
    "import numpy as np\n",
    "import pandas as pd\n",
    "from scipy.stats import ttest_ind, ttest_rel, ttest_1samp\n"
   ]
  },
  {
   "cell_type": "markdown",
   "metadata": {},
   "source": [
    "# Challenge 1 - Independent Sample T-tests\n",
    "\n",
    "In this challenge, we will be using the Pokemon dataset. Before applying statistical methods to this data, let's first examine the data.\n",
    "\n",
    "To load the data, run the code below."
   ]
  },
  {
   "cell_type": "code",
   "execution_count": 2,
   "metadata": {},
   "outputs": [],
   "source": [
    "# Run this code:\n",
    "\n",
    "pokemon = pd.read_csv('./../pokemon.csv')"
   ]
  },
  {
   "cell_type": "markdown",
   "metadata": {},
   "source": [
    "Let's start off by looking at the `head` function in the cell below."
   ]
  },
  {
   "cell_type": "code",
   "execution_count": 3,
   "metadata": {},
   "outputs": [
    {
     "data": {
      "text/html": [
       "<div>\n",
       "<style scoped>\n",
       "    .dataframe tbody tr th:only-of-type {\n",
       "        vertical-align: middle;\n",
       "    }\n",
       "\n",
       "    .dataframe tbody tr th {\n",
       "        vertical-align: top;\n",
       "    }\n",
       "\n",
       "    .dataframe thead th {\n",
       "        text-align: right;\n",
       "    }\n",
       "</style>\n",
       "<table border=\"1\" class=\"dataframe\">\n",
       "  <thead>\n",
       "    <tr style=\"text-align: right;\">\n",
       "      <th></th>\n",
       "      <th>#</th>\n",
       "      <th>Name</th>\n",
       "      <th>Type 1</th>\n",
       "      <th>Type 2</th>\n",
       "      <th>Total</th>\n",
       "      <th>HP</th>\n",
       "      <th>Attack</th>\n",
       "      <th>Defense</th>\n",
       "      <th>Sp. Atk</th>\n",
       "      <th>Sp. Def</th>\n",
       "      <th>Speed</th>\n",
       "      <th>Generation</th>\n",
       "      <th>Legendary</th>\n",
       "    </tr>\n",
       "  </thead>\n",
       "  <tbody>\n",
       "    <tr>\n",
       "      <th>0</th>\n",
       "      <td>1</td>\n",
       "      <td>Bulbasaur</td>\n",
       "      <td>Grass</td>\n",
       "      <td>Poison</td>\n",
       "      <td>318</td>\n",
       "      <td>45</td>\n",
       "      <td>49</td>\n",
       "      <td>49</td>\n",
       "      <td>65</td>\n",
       "      <td>65</td>\n",
       "      <td>45</td>\n",
       "      <td>1</td>\n",
       "      <td>False</td>\n",
       "    </tr>\n",
       "    <tr>\n",
       "      <th>1</th>\n",
       "      <td>2</td>\n",
       "      <td>Ivysaur</td>\n",
       "      <td>Grass</td>\n",
       "      <td>Poison</td>\n",
       "      <td>405</td>\n",
       "      <td>60</td>\n",
       "      <td>62</td>\n",
       "      <td>63</td>\n",
       "      <td>80</td>\n",
       "      <td>80</td>\n",
       "      <td>60</td>\n",
       "      <td>1</td>\n",
       "      <td>False</td>\n",
       "    </tr>\n",
       "    <tr>\n",
       "      <th>2</th>\n",
       "      <td>3</td>\n",
       "      <td>Venusaur</td>\n",
       "      <td>Grass</td>\n",
       "      <td>Poison</td>\n",
       "      <td>525</td>\n",
       "      <td>80</td>\n",
       "      <td>82</td>\n",
       "      <td>83</td>\n",
       "      <td>100</td>\n",
       "      <td>100</td>\n",
       "      <td>80</td>\n",
       "      <td>1</td>\n",
       "      <td>False</td>\n",
       "    </tr>\n",
       "    <tr>\n",
       "      <th>3</th>\n",
       "      <td>3</td>\n",
       "      <td>VenusaurMega Venusaur</td>\n",
       "      <td>Grass</td>\n",
       "      <td>Poison</td>\n",
       "      <td>625</td>\n",
       "      <td>80</td>\n",
       "      <td>100</td>\n",
       "      <td>123</td>\n",
       "      <td>122</td>\n",
       "      <td>120</td>\n",
       "      <td>80</td>\n",
       "      <td>1</td>\n",
       "      <td>False</td>\n",
       "    </tr>\n",
       "    <tr>\n",
       "      <th>4</th>\n",
       "      <td>4</td>\n",
       "      <td>Charmander</td>\n",
       "      <td>Fire</td>\n",
       "      <td>NaN</td>\n",
       "      <td>309</td>\n",
       "      <td>39</td>\n",
       "      <td>52</td>\n",
       "      <td>43</td>\n",
       "      <td>60</td>\n",
       "      <td>50</td>\n",
       "      <td>65</td>\n",
       "      <td>1</td>\n",
       "      <td>False</td>\n",
       "    </tr>\n",
       "  </tbody>\n",
       "</table>\n",
       "</div>"
      ],
      "text/plain": [
       "   #                   Name Type 1  Type 2  Total  HP  Attack  Defense  \\\n",
       "0  1              Bulbasaur  Grass  Poison    318  45      49       49   \n",
       "1  2                Ivysaur  Grass  Poison    405  60      62       63   \n",
       "2  3               Venusaur  Grass  Poison    525  80      82       83   \n",
       "3  3  VenusaurMega Venusaur  Grass  Poison    625  80     100      123   \n",
       "4  4             Charmander   Fire     NaN    309  39      52       43   \n",
       "\n",
       "   Sp. Atk  Sp. Def  Speed  Generation  Legendary  \n",
       "0       65       65     45           1      False  \n",
       "1       80       80     60           1      False  \n",
       "2      100      100     80           1      False  \n",
       "3      122      120     80           1      False  \n",
       "4       60       50     65           1      False  "
      ]
     },
     "execution_count": 3,
     "metadata": {},
     "output_type": "execute_result"
    }
   ],
   "source": [
    "# Your code here:\n",
    "pokemon.head()\n"
   ]
  },
  {
   "cell_type": "markdown",
   "metadata": {},
   "source": [
    "The first thing we would like to do is compare the legendary Pokemon to the regular Pokemon. To do this, we should examine the data further. What is the count of legendary vs. non legendary Pokemons?"
   ]
  },
  {
   "cell_type": "code",
   "execution_count": 4,
   "metadata": {},
   "outputs": [
    {
     "data": {
      "text/plain": [
       "False    735\n",
       "True      65\n",
       "Name: Legendary, dtype: int64"
      ]
     },
     "execution_count": 4,
     "metadata": {},
     "output_type": "execute_result"
    }
   ],
   "source": [
    "# Your code here:\n",
    "pokemon['Legendary'].value_counts()\n"
   ]
  },
  {
   "cell_type": "markdown",
   "metadata": {},
   "source": [
    "Compute the mean and standard deviation of the total points for both legendary and non-legendary Pokemon."
   ]
  },
  {
   "cell_type": "code",
   "execution_count": 5,
   "metadata": {},
   "outputs": [
    {
     "data": {
      "text/html": [
       "<div>\n",
       "<style scoped>\n",
       "    .dataframe tbody tr th:only-of-type {\n",
       "        vertical-align: middle;\n",
       "    }\n",
       "\n",
       "    .dataframe tbody tr th {\n",
       "        vertical-align: top;\n",
       "    }\n",
       "\n",
       "    .dataframe thead th {\n",
       "        text-align: right;\n",
       "    }\n",
       "</style>\n",
       "<table border=\"1\" class=\"dataframe\">\n",
       "  <thead>\n",
       "    <tr style=\"text-align: right;\">\n",
       "      <th></th>\n",
       "      <th>Legendary</th>\n",
       "      <th>No Legendary</th>\n",
       "    </tr>\n",
       "  </thead>\n",
       "  <tbody>\n",
       "    <tr>\n",
       "      <th>mean</th>\n",
       "      <td>637.384615</td>\n",
       "      <td>417.213605</td>\n",
       "    </tr>\n",
       "    <tr>\n",
       "      <th>std</th>\n",
       "      <td>60.937389</td>\n",
       "      <td>106.760417</td>\n",
       "    </tr>\n",
       "  </tbody>\n",
       "</table>\n",
       "</div>"
      ],
      "text/plain": [
       "       Legendary  No Legendary\n",
       "mean  637.384615    417.213605\n",
       "std    60.937389    106.760417"
      ]
     },
     "execution_count": 5,
     "metadata": {},
     "output_type": "execute_result"
    }
   ],
   "source": [
    "# Your code here:\n",
    "\n",
    "mean_legendary=pokemon[pokemon['Legendary']==True]['Total'].mean()\n",
    "std_legendary=pokemon[pokemon['Legendary']==True]['Total'].std()\n",
    "mean_NOlegendary=pokemon[pokemon['Legendary']==False]['Total'].mean()\n",
    "std_NOlegendary=pokemon[pokemon['Legendary']==False]['Total'].std()\n",
    "\n",
    "legendary_stats = [mean_legendary,std_legendary]\n",
    "NOlegendary_stats = [mean_NOlegendary,std_NOlegendary]\n",
    "\n",
    "legendary = pd.DataFrame(list(zip(legendary_stats,NOlegendary_stats)), columns=['Legendary','No Legendary'], index =['mean','std']) \n",
    "legendary"
   ]
  },
  {
   "cell_type": "markdown",
   "metadata": {},
   "source": [
    "The computation of the mean might give us a clue regarding how the statistical test may turn out; However, it certainly does not prove whether there is a significant difference between the two groups.\n",
    "\n",
    "In the cell below, use the `ttest_ind` function in `scipy.stats` to compare the the total points for legendary and non-legendary Pokemon. Since we do not have any information about the population, assume the variances are not equal."
   ]
  },
  {
   "cell_type": "code",
   "execution_count": 6,
   "metadata": {},
   "outputs": [
    {
     "name": "stdout",
     "output_type": "stream",
     "text": [
      "25.8335743895517 9.357954335957446e-47\n"
     ]
    }
   ],
   "source": [
    "# Your code here:\n",
    "\n",
    "t, p = ttest_ind(pokemon[pokemon['Legendary']==True]['Total'],pokemon[pokemon['Legendary']==False]['Total'], equal_var = False)\n",
    "print(t,p)"
   ]
  },
  {
   "cell_type": "markdown",
   "metadata": {},
   "source": [
    "What do you conclude from this test? Write your conclusions below."
   ]
  },
  {
   "cell_type": "code",
   "execution_count": 6,
   "metadata": {},
   "outputs": [],
   "source": [
    "# Your conclusions here:\n",
    "\n",
    "Los pokemon Legendarios son los mejores!"
   ]
  },
  {
   "cell_type": "markdown",
   "metadata": {},
   "source": [
    "How about we try to compare the different types of pokemon? In the cell below, list the types of Pokemon from column `Type 1` and the count of each type."
   ]
  },
  {
   "cell_type": "code",
   "execution_count": 7,
   "metadata": {},
   "outputs": [
    {
     "data": {
      "text/plain": [
       "Water       112\n",
       "Normal       98\n",
       "Grass        70\n",
       "Bug          69\n",
       "Psychic      57\n",
       "Fire         52\n",
       "Electric     44\n",
       "Rock         44\n",
       "Dragon       32\n",
       "Ground       32\n",
       "Ghost        32\n",
       "Dark         31\n",
       "Poison       28\n",
       "Steel        27\n",
       "Fighting     27\n",
       "Ice          24\n",
       "Fairy        17\n",
       "Flying        4\n",
       "Name: Type 1, dtype: int64"
      ]
     },
     "execution_count": 7,
     "metadata": {},
     "output_type": "execute_result"
    }
   ],
   "source": [
    "# Your code here:\n",
    "pokemon['Type 1'].value_counts()\n"
   ]
  },
  {
   "cell_type": "markdown",
   "metadata": {},
   "source": [
    "Since water is the largest group of Pokemon, compare the mean and standard deviation of water Pokemon to all other Pokemon."
   ]
  },
  {
   "cell_type": "code",
   "execution_count": 9,
   "metadata": {},
   "outputs": [],
   "source": [
    "# Your code here:\n",
    "\n",
    "mean_water=pokemon[pokemon['Type 1']=='Water']['Total'].mean()\n",
    "std_water=pokemon[pokemon['Type 1']=='Water']['Total'].std()\n",
    "mean_dif=pokemon[pokemon['Type 1']!='Water']['Total'].mean()\n",
    "std_dif=pokemon[pokemon['Type 1']!='Water']['Total'].std()"
   ]
  },
  {
   "cell_type": "markdown",
   "metadata": {},
   "source": [
    "Perform a hypothesis test comparing the mean of total points for water Pokemon to all non-water Pokemon. Assume the variances are equal. "
   ]
  },
  {
   "cell_type": "code",
   "execution_count": 10,
   "metadata": {},
   "outputs": [
    {
     "data": {
      "text/html": [
       "<div>\n",
       "<style scoped>\n",
       "    .dataframe tbody tr th:only-of-type {\n",
       "        vertical-align: middle;\n",
       "    }\n",
       "\n",
       "    .dataframe tbody tr th {\n",
       "        vertical-align: top;\n",
       "    }\n",
       "\n",
       "    .dataframe thead th {\n",
       "        text-align: right;\n",
       "    }\n",
       "</style>\n",
       "<table border=\"1\" class=\"dataframe\">\n",
       "  <thead>\n",
       "    <tr style=\"text-align: right;\">\n",
       "      <th></th>\n",
       "      <th>Grass</th>\n",
       "      <th>Fire</th>\n",
       "      <th>Water</th>\n",
       "      <th>Bug</th>\n",
       "      <th>Normal</th>\n",
       "      <th>Poison</th>\n",
       "      <th>Electric</th>\n",
       "      <th>Ground</th>\n",
       "      <th>Fairy</th>\n",
       "      <th>Fighting</th>\n",
       "      <th>Psychic</th>\n",
       "      <th>Rock</th>\n",
       "      <th>Ghost</th>\n",
       "      <th>Ice</th>\n",
       "      <th>Dragon</th>\n",
       "      <th>Dark</th>\n",
       "      <th>Steel</th>\n",
       "      <th>Flying</th>\n",
       "    </tr>\n",
       "  </thead>\n",
       "  <tbody>\n",
       "    <tr>\n",
       "      <th>mean</th>\n",
       "      <td>421.142857</td>\n",
       "      <td>458.076923</td>\n",
       "      <td>430.455357</td>\n",
       "      <td>378.927536</td>\n",
       "      <td>401.683673</td>\n",
       "      <td>399.142857</td>\n",
       "      <td>443.409091</td>\n",
       "      <td>437.500000</td>\n",
       "      <td>413.176471</td>\n",
       "      <td>416.444444</td>\n",
       "      <td>475.947368</td>\n",
       "      <td>453.750000</td>\n",
       "      <td>439.562500</td>\n",
       "      <td>433.458333</td>\n",
       "      <td>550.531250</td>\n",
       "      <td>445.741935</td>\n",
       "      <td>487.703704</td>\n",
       "      <td>485.000000</td>\n",
       "    </tr>\n",
       "    <tr>\n",
       "      <th>std</th>\n",
       "      <td>106.650626</td>\n",
       "      <td>109.760496</td>\n",
       "      <td>113.188266</td>\n",
       "      <td>117.875223</td>\n",
       "      <td>115.733038</td>\n",
       "      <td>92.358687</td>\n",
       "      <td>105.721952</td>\n",
       "      <td>123.913081</td>\n",
       "      <td>123.781680</td>\n",
       "      <td>102.464378</td>\n",
       "      <td>139.026645</td>\n",
       "      <td>108.059227</td>\n",
       "      <td>110.072685</td>\n",
       "      <td>108.281027</td>\n",
       "      <td>146.267538</td>\n",
       "      <td>109.126217</td>\n",
       "      <td>115.420907</td>\n",
       "      <td>161.400124</td>\n",
       "    </tr>\n",
       "  </tbody>\n",
       "</table>\n",
       "</div>"
      ],
      "text/plain": [
       "           Grass        Fire       Water         Bug      Normal      Poison  \\\n",
       "mean  421.142857  458.076923  430.455357  378.927536  401.683673  399.142857   \n",
       "std   106.650626  109.760496  113.188266  117.875223  115.733038   92.358687   \n",
       "\n",
       "        Electric      Ground       Fairy    Fighting     Psychic        Rock  \\\n",
       "mean  443.409091  437.500000  413.176471  416.444444  475.947368  453.750000   \n",
       "std   105.721952  123.913081  123.781680  102.464378  139.026645  108.059227   \n",
       "\n",
       "           Ghost         Ice      Dragon        Dark       Steel      Flying  \n",
       "mean  439.562500  433.458333  550.531250  445.741935  487.703704  485.000000  \n",
       "std   110.072685  108.281027  146.267538  109.126217  115.420907  161.400124  "
      ]
     },
     "execution_count": 10,
     "metadata": {},
     "output_type": "execute_result"
    }
   ],
   "source": [
    "# Your code here:\n",
    "type1_pokemon = pokemon['Type 1'].unique()\n",
    "stats_pokemon = pd.DataFrame(index=['mean', 'std'])\n",
    "col_names = []\n",
    "for type1 in type1_pokemon :\n",
    "        type1_mean = pokemon[pokemon['Type 1']==type1]['Total'].mean()\n",
    "        type1_std=pokemon[pokemon['Type 1']==type1]['Total'].std()\n",
    "        col = pd.DataFrame([type1_mean, type1_std],index=['mean', 'std'])\n",
    "        #col_names.append(type1)\n",
    "        stats_pokemon = pd.concat([stats_pokemon, col],axis=1)\n",
    "        #print(type1_mean, type1_std)\n",
    "stats_pokemon.columns= type1_pokemon     \n",
    "stats_pokemon\n"
   ]
  },
  {
   "cell_type": "markdown",
   "metadata": {},
   "source": [
    "Write your conclusion below."
   ]
  },
  {
   "cell_type": "code",
   "execution_count": 10,
   "metadata": {},
   "outputs": [],
   "source": [
    "# Your conclusions here:\n",
    "El mejor tipo son los hada\n"
   ]
  },
  {
   "cell_type": "markdown",
   "metadata": {},
   "source": [
    "# Challenge 2 - Matched Pairs Test\n",
    "\n",
    "In this challenge we will compare dependent samples of data describing our Pokemon. Our goal is to see whether there is a significant difference between each Pokemon's defense and attack scores. Our hypothesis is that the defense and attack scores are equal. In the cell below, import the `ttest_rel` function from `scipy.stats` and compare the two columns to see if there is a statistically significant difference between them."
   ]
  },
  {
   "cell_type": "code",
   "execution_count": 11,
   "metadata": {},
   "outputs": [
    {
     "data": {
      "text/plain": [
       "Ttest_indResult(statistic=3.2417640740423126, pvalue=0.0012123980547321454)"
      ]
     },
     "execution_count": 11,
     "metadata": {},
     "output_type": "execute_result"
    }
   ],
   "source": [
    "# Your code here:\n",
    "ttest_ind(pokemon.Attack,pokemon.Defense)\n"
   ]
  },
  {
   "cell_type": "markdown",
   "metadata": {},
   "source": [
    "Describe the results of the test in the cell below."
   ]
  },
  {
   "cell_type": "code",
   "execution_count": 13,
   "metadata": {},
   "outputs": [],
   "source": [
    "# Your conclusions here:\n",
    "# Pvalue es menor que 0.05\n",
    "\n",
    "\n"
   ]
  },
  {
   "cell_type": "markdown",
   "metadata": {},
   "source": [
    "We are also curious about whether therer is a significant difference between the mean of special defense and the mean of special attack. Perform the hypothesis test in the cell below. "
   ]
  },
  {
   "cell_type": "code",
   "execution_count": 14,
   "metadata": {},
   "outputs": [
    {
     "data": {
      "text/plain": [
       "Ttest_relResult(statistic=0.853986188453353, pvalue=0.3933685997548122)"
      ]
     },
     "execution_count": 14,
     "metadata": {},
     "output_type": "execute_result"
    }
   ],
   "source": [
    "# Your code here:\n",
    "ttest_rel(pokemon['Sp. Atk'],pokemon['Sp. Def'])\n"
   ]
  },
  {
   "cell_type": "markdown",
   "metadata": {},
   "source": [
    "Describe the results of the test in the cell below."
   ]
  },
  {
   "cell_type": "code",
   "execution_count": 14,
   "metadata": {},
   "outputs": [],
   "source": [
    "# Your conclusions here:\n",
    "\n",
    "#pvalue es mayor que o.05 entonces se aprueba la hipotesis"
   ]
  },
  {
   "cell_type": "markdown",
   "metadata": {},
   "source": [
    "As you may recall, a two sample matched pairs test can also be expressed as a one sample test of the difference between the two dependent columns.\n",
    "\n",
    "Import the `ttest_1samp` function and perform a one sample t-test of the difference between defense and attack. Test the hypothesis that the difference between the means is zero. Confirm that the results of the test are the same."
   ]
  },
  {
   "cell_type": "code",
   "execution_count": 16,
   "metadata": {},
   "outputs": [
    {
     "data": {
      "text/plain": [
       "Ttest_1sampResult(statistic=0       6.759398\n",
       "1      -6.206199\n",
       "2     -23.493661\n",
       "3     -40.781123\n",
       "4      19.724994\n",
       "         ...    \n",
       "795   -66.712317\n",
       "796   -32.137392\n",
       "797   -49.424855\n",
       "798   -49.424855\n",
       "799   -14.849930\n",
       "Name: Sp. Def, Length: 800, dtype: float64, pvalue=array([2.67248248e-011, 8.71173181e-010, 3.31813959e-093, 1.88920148e-197,\n",
       "       7.22915756e-071, 2.67248248e-011, 2.31592063e-024, 2.31592063e-024,\n",
       "       3.73735224e-172, 6.99278513e-014, 8.71173181e-010, 1.29129692e-119,\n",
       "       3.73735224e-172, 7.09498963e-225, 1.26607445e-200, 8.71173181e-010,\n",
       "       7.09498963e-225, 1.26607445e-200, 8.71173181e-010, 8.71173181e-010,\n",
       "       1.79450439e-149, 7.22915756e-071, 1.50050093e-002, 8.71173181e-010,\n",
       "       1.79450439e-149, 1.50050093e-002, 2.66484435e-170, 4.08646049e-023,\n",
       "       1.30413222e-051, 1.20075163e-007, 7.22915756e-071, 8.71173181e-010,\n",
       "       1.94079670e-175, 4.54081162e-047, 5.14427678e-123, 4.54081162e-047,\n",
       "       2.31592063e-024, 5.14427678e-123, 4.54081162e-047, 5.98826951e-002,\n",
       "       2.67248248e-011, 3.12123047e-044, 2.67248248e-011, 3.31813959e-093,\n",
       "       1.26607445e-200, 7.22915756e-071, 5.14427678e-123, 5.98826951e-002,\n",
       "       2.67248248e-011, 5.98826951e-002, 3.12123047e-044, 4.54081162e-047,\n",
       "       8.71173181e-010, 4.54081162e-047, 5.98826951e-002, 1.47869826e-096,\n",
       "       1.50050093e-002, 5.14427678e-123, 2.67248248e-011, 7.22915756e-071,\n",
       "       8.71173181e-010, 1.47869826e-096, 1.50050093e-002, 7.22915756e-071,\n",
       "       8.71173181e-010, 5.14427678e-123, 7.22915756e-071, 3.12123047e-044,\n",
       "       4.54081162e-047, 1.50050093e-002, 1.09281056e-067, 1.09281056e-067,\n",
       "       1.79450439e-149, 1.20483966e-026, 2.31592063e-024, 1.94079670e-175,\n",
       "       1.47869826e-096, 1.50050093e-002, 3.31813959e-093, 1.88920148e-197,\n",
       "       1.94079670e-175, 1.47869826e-096, 2.67248248e-011, 2.67248248e-011,\n",
       "       8.71173181e-010, 5.14427678e-123, 8.71173181e-010, 8.71173181e-010,\n",
       "       4.54081162e-047, 1.50050093e-002, 8.40139295e-020, 1.79450439e-149,\n",
       "       1.20483966e-026, 1.50050093e-002, 1.09281056e-067, 7.22915756e-071,\n",
       "       3.31813959e-093, 1.26607445e-200, 1.47869826e-096, 1.79450439e-149,\n",
       "       4.54081162e-047, 5.98826951e-002, 1.09281056e-067, 1.47869826e-096,\n",
       "       3.12123047e-044, 3.73735224e-172, 1.26607445e-200, 7.22915756e-071,\n",
       "       4.54081162e-047, 8.71173181e-010, 1.47869826e-096, 2.67248248e-011,\n",
       "       7.22915756e-071, 8.71173181e-010, 4.17890530e-146, 4.17890530e-146,\n",
       "       5.98826951e-002, 1.47869826e-096, 1.50050093e-002, 1.94079670e-175,\n",
       "       1.47869826e-096, 1.29129692e-119, 5.14427678e-123, 8.71173181e-010,\n",
       "       3.31813959e-093, 1.26607445e-200, 1.47869826e-096, 7.22915756e-071,\n",
       "       8.71173181e-010, 4.54081162e-047, 2.31592063e-024, 1.88920148e-197,\n",
       "       8.71173181e-010, 1.09281056e-067, 2.31592063e-024, 2.31592063e-024,\n",
       "       1.50050093e-002, 3.12123047e-044, 1.50050093e-002, 7.09498963e-225,\n",
       "       3.31813959e-093, 3.30580424e-245, 1.09281056e-067, 5.48366424e-081,\n",
       "       2.67248248e-011, 1.09281056e-067, 1.09281056e-067, 4.17890530e-146,\n",
       "       5.98826951e-002, 4.54081162e-047, 1.50050093e-002, 1.47869826e-096,\n",
       "       1.50050093e-002, 5.98826951e-002, 1.09281056e-067, 4.17890530e-146,\n",
       "       7.94448404e-222, 3.12123047e-044, 2.31592063e-024, 7.22915756e-071,\n",
       "       1.50050093e-002, 3.31813959e-093, 3.12123047e-044, 3.31813959e-093,\n",
       "       1.88920148e-197, 3.31813959e-093, 2.67248248e-011, 8.71173181e-010,\n",
       "       3.31813959e-093, 7.22915756e-071, 2.67248248e-011, 2.31592063e-024,\n",
       "       5.48366424e-081, 1.01491164e-016, 8.40064387e-018, 1.47869826e-096,\n",
       "       4.54081162e-047, 1.16088723e-042, 1.14044929e-072, 8.71173181e-010,\n",
       "       4.17890530e-146, 5.14427678e-123, 1.20483966e-026, 8.71173181e-010,\n",
       "       1.16088723e-042, 6.11808897e-003, 1.79450439e-149, 4.54081162e-047,\n",
       "       7.09498963e-225, 2.67248248e-011, 1.29129692e-119, 1.47869826e-096,\n",
       "       1.50050093e-002, 1.47869826e-096, 1.20483966e-026, 3.12123047e-044,\n",
       "       4.17890530e-146, 3.31813959e-093, 7.22915756e-071, 8.71173181e-010,\n",
       "       2.67248248e-011, 3.31813959e-093, 4.54081162e-047, 2.67248248e-011,\n",
       "       1.09281056e-067, 4.54081162e-047, 1.94079670e-175, 2.31592063e-024,\n",
       "       1.47869826e-096, 1.26607445e-200, 2.67248248e-011, 1.09281056e-067,\n",
       "       3.30580424e-245, 2.14089208e-112, 4.17890530e-146, 2.31592063e-024,\n",
       "       5.48366424e-081, 2.65212870e-034, 2.67248248e-011, 1.79450439e-149,\n",
       "       1.20483966e-026, 2.67248248e-011, 2.67248248e-011, 2.67248248e-011,\n",
       "       1.09281056e-067, 5.14427678e-123, 1.20483966e-026, 4.54081162e-047,\n",
       "       8.71173181e-010, 3.31813959e-093, 0.00000000e+000, 1.09281056e-067,\n",
       "       1.29129692e-119, 5.98826951e-002, 7.22915756e-071, 5.98826951e-002,\n",
       "       5.14427678e-123, 8.71173181e-010, 1.94079670e-175, 1.20483966e-026,\n",
       "       2.31592063e-024, 1.79450439e-149, 5.98826951e-002, 1.47869826e-096,\n",
       "       6.02141922e-289, 1.50050093e-002, 7.22915756e-071, 8.71173181e-010,\n",
       "       3.12123047e-044, 1.09281056e-067, 5.14427678e-123, 1.20483966e-026,\n",
       "       1.09281056e-067, 2.67248248e-011, 1.47869826e-096, 1.79450439e-149,\n",
       "       4.17890530e-146, 2.67248248e-011, 4.54081162e-047, 4.54081162e-047,\n",
       "       1.50050093e-002, 1.41750077e-267, 3.31813959e-093, 5.98826951e-002,\n",
       "       3.73735224e-172, 7.22915756e-071, 1.50050093e-002, 3.31813959e-093,\n",
       "       1.88920148e-197, 0.00000000e+000, 0.00000000e+000, 3.31813959e-093,\n",
       "       4.54081162e-047, 2.67248248e-011, 2.31592063e-024, 2.31592063e-024,\n",
       "       7.22915756e-071, 1.20483966e-026, 1.50050093e-002, 8.71173181e-010,\n",
       "       7.22915756e-071, 1.50050093e-002, 3.12123047e-044, 4.17890530e-146,\n",
       "       1.94079670e-175, 1.20483966e-026, 1.05448720e-117, 4.08646049e-023,\n",
       "       1.94079670e-175, 1.26607445e-200, 7.22915756e-071, 1.26607445e-200,\n",
       "       3.12123047e-044, 7.22915756e-071, 1.50050093e-002, 3.31813959e-093,\n",
       "       1.94079670e-175, 5.14427678e-123, 1.20483966e-026, 1.94079670e-175,\n",
       "       7.22915756e-071, 1.94079670e-175, 1.50050093e-002, 1.79450439e-149,\n",
       "       4.54081162e-047, 3.73735224e-172, 1.41750077e-267, 4.79487236e-061,\n",
       "       7.10829063e-015, 1.20483966e-026, 1.20483966e-026, 1.79450439e-149,\n",
       "       4.54081162e-047, 2.67248248e-011, 1.94079670e-175, 7.22915756e-071,\n",
       "       1.94079670e-175, 1.92541330e-210, 4.25010418e-107, 8.76397744e-001,\n",
       "       1.94079670e-175, 1.20483966e-026, 5.14427678e-123, 3.12123047e-044,\n",
       "       1.79450439e-149, 4.54081162e-047, 2.67248248e-011, 3.73735224e-172,\n",
       "       4.54081162e-047, 1.09281056e-067, 5.14427678e-123, 7.22915756e-071,\n",
       "       1.20483966e-026, 8.71173181e-010, 4.54081162e-047, 5.98826951e-002,\n",
       "       2.31592063e-024, 5.14427678e-123, 1.20483966e-026, 8.71173181e-010,\n",
       "       5.98826951e-002, 2.31592063e-024, 5.98826951e-002, 5.98826951e-002,\n",
       "       8.71173181e-010, 2.83375483e-056, 8.40064387e-018, 7.09498963e-225,\n",
       "       5.14427678e-123, 2.67248248e-011, 1.79450439e-149, 1.47869826e-096,\n",
       "       1.47869826e-096, 5.98826951e-002, 1.29129692e-119, 1.50050093e-002,\n",
       "       8.71173181e-010, 4.17890530e-146, 1.20483966e-026, 1.47869826e-096,\n",
       "       7.22915756e-071, 8.71173181e-010, 5.14427678e-123, 1.20483966e-026,\n",
       "       5.98826951e-002, 1.29129692e-119, 1.29129692e-119, 1.20483966e-026,\n",
       "       1.20483966e-026, 2.31592063e-024, 2.67248248e-011, 1.05448720e-117,\n",
       "       1.16077862e-001, 1.79450439e-149, 4.54081162e-047, 1.50050093e-002,\n",
       "       1.88920148e-197, 9.02924289e-032, 3.08899037e-130, 7.22915756e-071,\n",
       "       8.71173181e-010, 4.54081162e-047, 7.94448404e-222, 1.50050093e-002,\n",
       "       1.88920148e-197, 6.14731691e-160, 1.01491164e-016, 8.40064387e-018,\n",
       "       3.12123047e-044, 3.30580424e-245, 9.02924289e-032, 8.71173181e-010,\n",
       "       1.20483966e-026, 1.20483966e-026, 5.48366424e-081, 7.22915756e-071,\n",
       "       8.71173181e-010, 8.71173181e-010, 7.22915756e-071, 1.50050093e-002,\n",
       "       3.12123047e-044, 4.54081162e-047, 5.98826951e-002, 5.98826951e-002,\n",
       "       2.67248248e-011, 2.67248248e-011, 1.94079670e-175, 7.22915756e-071,\n",
       "       8.71173181e-010, 3.12123047e-044, 1.20483966e-026, 8.71173181e-010,\n",
       "       3.12123047e-044, 4.17890530e-146, 3.31813959e-093, 0.00000000e+000,\n",
       "       0.00000000e+000, 3.30580424e-245, 0.00000000e+000, 4.17890530e-146,\n",
       "       1.88920148e-197, 6.02141922e-289, 0.00000000e+000, 3.12123047e-044,\n",
       "       3.12123047e-044, 3.12123047e-044, 3.31813959e-093, 3.31813959e-093,\n",
       "       7.22915756e-071, 7.09498963e-225, 0.00000000e+000, 3.12123047e-044,\n",
       "       4.54081162e-047, 2.67248248e-011, 2.31592063e-024, 8.13517983e-102,\n",
       "       4.79487236e-061, 1.16077862e-001, 1.16088723e-042, 6.11808897e-003,\n",
       "       1.90318699e-098, 1.94079670e-175, 5.14427678e-123, 1.20483966e-026,\n",
       "       5.14427678e-123, 1.20483966e-026, 1.05448720e-117, 6.49455782e-066,\n",
       "       1.02272940e-154, 6.77950348e-076, 1.20075163e-007, 1.50050093e-002,\n",
       "       1.29129692e-119, 1.94079670e-175, 7.22915756e-071, 9.27932153e-036,\n",
       "       1.62542802e-280, 1.47869826e-096, 1.29129692e-119, 2.31592063e-024,\n",
       "       1.09281056e-067, 7.22915756e-071, 2.14089208e-112, 1.02586079e-103,\n",
       "       3.12123047e-044, 1.94079670e-175, 7.22915756e-071, 2.83375483e-056,\n",
       "       8.65311786e-006, 8.40139295e-020, 7.10829063e-015, 5.52367259e-009,\n",
       "       8.13517983e-102, 1.30413222e-051, 1.16088723e-042, 1.14044929e-072,\n",
       "       1.14044929e-072, 1.29129692e-119, 4.79487236e-061, 6.31045603e-139,\n",
       "       2.22323510e-030, 7.22915756e-071, 1.05448720e-117, 4.08646049e-023,\n",
       "       5.74675564e-028, 2.79300505e-177, 1.47869826e-096, 3.12123047e-044,\n",
       "       2.67248248e-011, 2.14089208e-112, 1.54072704e-135, 1.47869826e-096,\n",
       "       4.54081162e-047, 2.31592063e-024, 1.09281056e-067, 2.31592063e-024,\n",
       "       5.14427678e-123, 1.50050093e-002, 1.50050093e-002, 2.14089208e-112,\n",
       "       4.78664061e-001, 4.54081162e-047, 5.98826951e-002, 5.14427678e-123,\n",
       "       2.67248248e-011, 4.78664061e-001, 4.08646049e-023, 5.74675564e-028,\n",
       "       1.88920148e-197, 1.20483966e-026, 2.31592063e-024, 1.29129692e-119,\n",
       "       2.31592063e-024, 3.12123047e-044, 1.09281056e-067, 4.54081162e-047,\n",
       "       7.22915756e-071, 2.31592063e-024, 1.09281056e-067, 3.73735224e-172,\n",
       "       1.16088723e-042, 2.67248248e-011, 1.09281056e-067, 5.98826951e-002,\n",
       "       1.20483966e-026, 5.98826951e-002, 3.73735224e-172, 3.73735224e-172,\n",
       "       0.00000000e+000, 1.41750077e-267, 1.50050093e-002, 3.21504653e-004,\n",
       "       3.08899037e-130, 3.08899037e-130, 3.08899037e-130, 3.08899037e-130,\n",
       "       3.08899037e-130, 3.30580424e-245, 1.29129692e-119, 1.50050093e-002,\n",
       "       3.31813959e-093, 1.88920148e-197, 6.29629255e-125, 4.17890530e-146,\n",
       "       1.88920148e-197, 3.31813959e-093, 3.30580424e-245, 8.71173181e-010,\n",
       "       3.31813959e-093, 3.12123047e-044, 3.31813959e-093, 5.98826951e-002,\n",
       "       1.88920148e-197, 3.31813959e-093, 4.54081162e-047, 5.98826951e-002,\n",
       "       1.09281056e-067, 1.47869826e-096, 4.54081162e-047, 2.67248248e-011,\n",
       "       1.47869826e-096, 1.20483966e-026, 1.50050093e-002, 2.51508384e-128,\n",
       "       1.00295814e-003, 1.47869826e-096, 2.67248248e-011, 3.12123047e-044,\n",
       "       6.31045603e-139, 7.22915756e-071, 5.48366424e-081, 1.01491164e-016,\n",
       "       5.48366424e-081, 1.01491164e-016, 5.48366424e-081, 1.01491164e-016,\n",
       "       4.54081162e-047, 1.09281056e-067, 1.94079670e-175, 2.14089208e-112,\n",
       "       4.54081162e-047, 3.91958172e-165, 1.01491164e-016, 1.26607445e-200,\n",
       "       5.14427678e-123, 8.71173181e-010, 4.25010418e-107, 4.54081162e-047,\n",
       "       1.47869826e-096, 2.67248248e-011, 5.74675564e-028, 1.39012657e-226,\n",
       "       1.79450439e-149, 7.22915756e-071, 2.67248248e-011, 5.14427678e-123,\n",
       "       4.54081162e-047, 5.98826951e-002, 2.31592063e-024, 5.98826951e-002,\n",
       "       1.20483966e-026, 8.71173181e-010, 8.71173181e-010, 2.51508384e-128,\n",
       "       1.20075163e-007, 1.00295814e-003, 7.22915756e-071, 5.98826951e-002,\n",
       "       7.22915756e-071, 5.98826951e-002, 4.54081162e-047, 1.79450439e-149,\n",
       "       1.47869826e-096, 1.50050093e-002, 1.47869826e-096, 4.54081162e-047,\n",
       "       1.29129692e-119, 6.04017616e-007, 1.79450439e-149, 5.98826951e-002,\n",
       "       1.50050093e-002, 3.73735224e-172, 8.71173181e-010, 2.67248248e-011,\n",
       "       1.29129692e-119, 1.47869826e-096, 2.67248248e-011, 1.47869826e-096,\n",
       "       2.67248248e-011, 8.40139295e-020, 7.10829063e-015, 5.14427678e-123,\n",
       "       1.20483966e-026, 5.14427678e-123, 1.20483966e-026, 2.67248248e-011,\n",
       "       2.31592063e-024, 4.17890530e-146, 7.22915756e-071, 1.20483966e-026,\n",
       "       2.31592063e-024, 7.22915756e-071, 1.01491164e-016, 1.20483966e-026,\n",
       "       5.98826951e-002, 1.09281056e-067, 7.22915756e-071, 1.50050093e-002,\n",
       "       1.20483966e-026, 1.47869826e-096, 1.29129692e-119, 4.54081162e-047,\n",
       "       8.71173181e-010, 2.31592063e-024, 1.29129692e-119, 1.47869826e-096,\n",
       "       7.22915756e-071, 1.20483966e-026, 5.74675564e-028, 2.79300505e-177,\n",
       "       1.20483966e-026, 2.31592063e-024, 2.31592063e-024, 5.14427678e-123,\n",
       "       1.50050093e-002, 8.71173181e-010, 4.54081162e-047, 1.09281056e-067,\n",
       "       4.54081162e-047, 1.20483966e-026, 3.12123047e-044, 5.14427678e-123,\n",
       "       7.22915756e-071, 1.50050093e-002, 5.14427678e-123, 8.71173181e-010,\n",
       "       1.41750077e-267, 2.67248248e-011, 1.20483966e-026, 5.34306113e-088,\n",
       "       7.22915756e-071, 1.20483966e-026, 3.12123047e-044, 7.22915756e-071,\n",
       "       8.71173181e-010, 5.14427678e-123, 1.50050093e-002, 1.09281056e-067,\n",
       "       7.22915756e-071, 5.98826951e-002, 2.67248248e-011, 1.09281056e-067,\n",
       "       5.52367259e-009, 5.48366424e-081, 7.22915756e-071, 1.50050093e-002,\n",
       "       3.12123047e-044, 4.54081162e-047, 1.29129692e-119, 4.78664061e-001,\n",
       "       3.12123047e-044, 1.30118275e-240, 8.71173181e-010, 3.12123047e-044,\n",
       "       8.71173181e-010, 8.71173181e-010, 1.88920148e-197, 3.31813959e-093,\n",
       "       8.71173181e-010, 8.71173181e-010, 3.12123047e-044, 3.12123047e-044,\n",
       "       3.31813959e-093, 3.12123047e-044, 3.12123047e-044, 5.62386321e-236,\n",
       "       3.21504653e-004, 1.09281056e-067, 1.47869826e-096, 2.65212870e-034,\n",
       "       5.98826951e-002, 1.20483966e-026, 1.50050093e-002, 3.31813959e-093,\n",
       "       8.13517983e-102, 1.16088723e-042, 1.16077862e-001, 3.29930216e-144,\n",
       "       3.21504653e-004, 1.24561923e-133, 4.79487236e-061, 1.00295814e-003,\n",
       "       1.26607445e-200, 1.94079670e-175, 7.22915756e-071, 1.30413222e-051,\n",
       "       5.52367259e-009, 1.20075163e-007, 7.79905250e-083, 0.00000000e+000,\n",
       "       2.11282925e-038, 3.36903497e-012, 5.48366424e-081, 1.16077862e-001,\n",
       "       3.12123047e-044, 1.20483966e-026, 3.36903497e-012, 3.36903497e-012,\n",
       "       6.31045603e-139, 6.77950348e-076, 7.22915756e-071, 0.00000000e+000,\n",
       "       2.67248248e-011, 6.44317111e-040, 2.11282925e-038, 5.98826951e-002,\n",
       "       2.51052799e-091, 5.98826951e-002, 1.16088723e-042, 5.74675564e-028,\n",
       "       1.20483966e-026, 3.41755890e-212, 1.01491164e-016, 6.44317111e-040,\n",
       "       4.25010418e-107, 8.68440263e-063, 1.47869826e-096, 2.22323510e-030,\n",
       "       1.01491164e-016, 2.81804238e-053, 3.30580424e-245, 1.01491164e-016,\n",
       "       6.04017616e-007, 0.00000000e+000, 5.98826951e-002, 8.22715265e-162,\n",
       "       0.00000000e+000, 9.02924289e-032, 1.20483966e-026, 7.10829063e-015,\n",
       "       4.54081162e-047, 4.54081162e-047, 4.54081162e-047, 4.54081162e-047,\n",
       "       5.98826951e-002, 5.98826951e-002, 5.98826951e-002, 5.98826951e-002,\n",
       "       1.79450439e-149, 2.51052799e-091, 5.14427678e-123, 8.71173181e-010,\n",
       "       7.79905250e-083, 7.79905250e-083, 1.09281056e-067, 0.00000000e+000,\n",
       "       4.17890530e-146, 3.30580424e-245, 3.30580424e-245, 3.12123047e-044]))"
      ]
     },
     "execution_count": 16,
     "metadata": {},
     "output_type": "execute_result"
    }
   ],
   "source": [
    "# Your code here:\n",
    "ttest_1samp(pokemon['Sp. Atk'],pokemon['Sp. Def'])\n",
    "\n",
    "#La diferencia entre ataque y defensa no es igual a cero es decir existe diferencia \n",
    "#entre el ataque espacila y la defensa. \n",
    "#There are differences betwen atack and defense.\n",
    "    "
   ]
  },
  {
   "cell_type": "markdown",
   "metadata": {},
   "source": [
    "# Bonus Challenge - The Chi-Square Test\n",
    "\n",
    "The Chi-Square test is used to determine whether there is a statistically significant difference in frequencies. In other words, we are testing whether there is a relationship between categorical variables or rather when the variables are independent. This test is an alternative to Fisher's exact test and is used in scenarios where sample sizes are larger. However, with a large enough sample size, both tests produce similar results. Read more about the Chi Squared test [here](https://en.wikipedia.org/wiki/Chi-squared_test).\n",
    "\n",
    "In the cell below, create a contingency table using `pd.crosstab` comparing whether a Pokemon is legenadary or not and whether the Type 1 of a Pokemon is water or not."
   ]
  },
  {
   "cell_type": "code",
   "execution_count": 17,
   "metadata": {},
   "outputs": [],
   "source": [
    "# Your code here:\n",
    "\n"
   ]
  },
  {
   "cell_type": "markdown",
   "metadata": {},
   "source": [
    "Perform a chi-squared test using the `chi2_contingency` function in `scipy.stats`. You can read the documentation of the function [here](https://docs.scipy.org/doc/scipy-0.15.1/reference/generated/scipy.stats.chi2_contingency.html)."
   ]
  },
  {
   "cell_type": "code",
   "execution_count": 18,
   "metadata": {},
   "outputs": [],
   "source": [
    "# Your code here:\n",
    "\n"
   ]
  },
  {
   "cell_type": "markdown",
   "metadata": {},
   "source": [
    "Based on a 95% confidence, should we reject the null hypothesis?"
   ]
  },
  {
   "cell_type": "code",
   "execution_count": 19,
   "metadata": {},
   "outputs": [],
   "source": [
    "# Your answer here:\n",
    "\n"
   ]
  },
  {
   "cell_type": "code",
   "execution_count": null,
   "metadata": {},
   "outputs": [],
   "source": []
  }
 ],
 "metadata": {
  "kernelspec": {
   "display_name": "Python 3 (ipykernel)",
   "language": "python",
   "name": "python3"
  },
  "language_info": {
   "codemirror_mode": {
    "name": "ipython",
    "version": 3
   },
   "file_extension": ".py",
   "mimetype": "text/x-python",
   "name": "python",
   "nbconvert_exporter": "python",
   "pygments_lexer": "ipython3",
   "version": "3.9.7"
  }
 },
 "nbformat": 4,
 "nbformat_minor": 2
}
